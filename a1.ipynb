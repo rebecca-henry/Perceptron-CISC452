{
 "cells": [
  {
   "cell_type": "markdown",
   "id": "cf798513",
   "metadata": {
    "id": "cf798513"
   },
   "source": [
    "# CISC/CMPE 452/COGS 400 Assignment 1 - Perceptron (100 points)  \n",
    "\n",
    "Please put your name and student id\n",
    "\n",
    "    Rebecca Henry, #20152682\n",
    "\n",
    "- The notebook file has clearly marked blocks where you are expected to write code. Do not write or modify any code outside of these blocks.\n",
    "\n",
    "```\n",
    "e.g.\n",
    "####################################################################################################\n",
    "    # enter code here to calculate the output  \n",
    "\n",
    "####################################################################################################\n",
    "```\n",
    "\n",
    "- Do not add or delete cells from the notebook.\n",
    "- Run all cells, and do not clear out the outputs, before submitting. You will only get credit for code that has been run.\n",
    "- Make sure to run all the cells from beginning before the submission"
   ]
  },
  {
   "cell_type": "markdown",
   "id": "VRLNrFDU3dKp",
   "metadata": {
    "id": "VRLNrFDU3dKp"
   },
   "source": [
    "## [Part 1 Simple Feedback Learning (50 points)](#Part-1-Simple-Feedback-Learning)  \n",
    "\n",
    "**Simple Feedback Learning** uses the correct/incorrect feedback and info about (y>d) or (y<d) to change weights.  \n",
    "- Refer to **Perceptron slides**  \n",
    "\n",
    "### Build Model (40 points)  \n",
    "1. Calculate the output (10 points)  \n",
    "2. Implement weight adjustment (20 points)  \n",
    "3. Predict function (5 points)  \n",
    "4. Activation function (5 points)  \n",
    "\n",
    "### Evaluate Model (10 points)  \n",
    "Use the predict function to predict the labels with the test dataset (5 points)  \n",
    "Evaluate the prediction results (5 points)  \n",
    "- Evaluation matrics include confusion matrix, accuracy, recall, precision and F1 score\n",
    "\n",
    "## [Part 2 Error Correction Learning (50 points)](#Part-2-Error-Correction-Learning)  \n",
    "\n",
    "**Error Correction Learning** uses an error measure to adapt the weight vector.  \n",
    "- Refer to **Adaline slides**  \n",
    "\n",
    "### Build Model (40 points)  \n",
    "1. Calculate the output (10 points)  \n",
    "2. Implement weight adjustment (20 points)  \n",
    "3. Predict function (5 points)  \n",
    "4. Activation function (5 points)  \n",
    "\n",
    "### Evaluate Model (10 points)  \n",
    "Use the predict function to predict the lables with the test dataset (5 points)  \n",
    "Evaluate the prediction results (5 points)  \n",
    "- Evaluation matrics include confusion matrix, accuracy, recall, precision and F1 score"
   ]
  },
  {
   "cell_type": "code",
   "execution_count": 1,
   "id": "b7e6a263",
   "metadata": {
    "id": "b7e6a263"
   },
   "outputs": [],
   "source": [
    "import numpy as np\n",
    "import matplotlib.pyplot as plt\n",
    "from sklearn.model_selection import train_test_split\n",
    "from sklearn.datasets import load_iris"
   ]
  },
  {
   "cell_type": "code",
   "execution_count": 2,
   "id": "3a19bd78",
   "metadata": {
    "id": "3a19bd78"
   },
   "outputs": [
    {
     "data": {
      "text/plain": [
       "(['sepal length (cm)',\n",
       "  'sepal width (cm)',\n",
       "  'petal length (cm)',\n",
       "  'petal width (cm)'],\n",
       " array(['setosa', 'versicolor', 'virginica'], dtype='<U10'))"
      ]
     },
     "execution_count": 2,
     "metadata": {},
     "output_type": "execute_result"
    }
   ],
   "source": [
    "data = load_iris()\n",
    "x = data.data\n",
    "x = (x - x.mean(axis=0)) / x.std(axis=0)\n",
    "y = data.target - 1\n",
    "data.feature_names, data.target_names"
   ]
  },
  {
   "cell_type": "code",
   "execution_count": 3,
   "id": "34fd2e47",
   "metadata": {
    "id": "34fd2e47",
    "scrolled": true
   },
   "outputs": [
    {
     "data": {
      "image/png": "[encoded data removed]",
      "text/plain": [
       "<Figure size 432x288 with 1 Axes>"
      ]
     },
     "metadata": {
      "needs_background": "light"
     },
     "output_type": "display_data"
    }
   ],
   "source": [
    "# data visualization\n",
    "x_axis, y_axis = 0, 2\n",
    "plt.scatter(x[50:100, x_axis], x[50:100, y_axis], color='r', label=data.target_names[1])\n",
    "plt.scatter(x[100:, x_axis], x[100:, y_axis], color='b', label=data.target_names[2])\n",
    "plt.legend()\n",
    "plt.xlabel(data.feature_names[x_axis])\n",
    "plt.ylabel(data.feature_names[y_axis])\n",
    "plt.show()"
   ]
  },
  {
   "cell_type": "code",
   "execution_count": 4,
   "id": "06c93a78",
   "metadata": {
    "id": "06c93a78"
   },
   "outputs": [
    {
     "data": {
      "text/plain": [
       "((80, 4), (20, 4), (80,), (20,))"
      ]
     },
     "execution_count": 4,
     "metadata": {},
     "output_type": "execute_result"
    }
   ],
   "source": [
    "# split the data into train and test sets\n",
    "x_train, x_test, y_train, y_test = train_test_split(x[50:], y[50:], test_size=0.2, random_state=0)\n",
    "x_train.shape, x_test.shape, y_train.shape, y_test.shape"
   ]
  },
  {
   "cell_type": "code",
   "execution_count": 5,
   "id": "3c528d44",
   "metadata": {
    "id": "3c528d44"
   },
   "outputs": [],
   "source": [
    "\n",
    "def evaluator(y_test, y_pred):\n",
    "    ####################################################################################################\n",
    "    # enter code here to implement the evaluation matrices including confusion matrix, accuracy, precision and recall\n",
    "    # DO NOT use any python packages such as scikit-learn\n",
    "\n",
    "    n = 0\n",
    "    true0 = 0\n",
    "    true1= 0\n",
    "    false0 = 0\n",
    "    false1 = 0\n",
    "    for y in y_test:\n",
    "        if y == y_pred[n]:\n",
    "            if y == 0:\n",
    "                true0 += 1 # top left\n",
    "            elif y==1:\n",
    "                true1 += 1 # bottom r\n",
    "        elif y != y_pred[n]:\n",
    "            if y_pred[n] == 0:  #if it predicts 0 but it's truly a 1 (bottom left)\n",
    "                false0 += 1\n",
    "            elif y_pred[n] == 1: #if it predicts 1 but its truly a 0 (top right)\n",
    "                false1 += 1\n",
    "        n = n+1\n",
    "        \n",
    "    accuracy = (true0 + true1)/((true0 + false1) + (true1 + false0))\n",
    "    precision0 = true0/(true0+false1)\n",
    "    precision1 = true1/(true1+false0)\n",
    "    recall0 = true0/(true0 + false0)\n",
    "    recall1 = true1/(true1 + false1)\n",
    "    recall = ((true0/(true0 + false0))+(true1/(true1 + false1)))/2\n",
    "    precision = ((true0/(true0+false1))+(true1/(true1+false0)))/2\n",
    "    f1 = (2*precision*recall)/(precision+recall)\n",
    "    con_mat = np.array( [[true0, false1, precision0],\n",
    "                [false0, true1, precision1],\n",
    "                [recall0, recall1, accuracy]])\n",
    "                  \n",
    "    return con_mat \n",
    "    ####################################################################################################"
   ]
  },
  {
   "cell_type": "markdown",
   "id": "4e4a6b06",
   "metadata": {
    "id": "4e4a6b06"
   },
   "source": [
    "## Part 1 Simple Feedback Learning"
   ]
  },
  {
   "cell_type": "code",
   "execution_count": 6,
   "id": "29d82a53",
   "metadata": {
    "id": "29d82a53"
   },
   "outputs": [],
   "source": [
    "class SimpleFeedbackLearning(object):\n",
    "    def __init__(self):\n",
    "        self.history = {}\n",
    "        self.history['train_acc'] = []\n",
    "        self.history['test_acc'] = []\n",
    "        \n",
    "    def f(self, x):\n",
    "        ####################################################################################################\n",
    "        # 4. enter code here to implement the activation function\n",
    "        fx = 0\n",
    "        if x <= 0.5:\n",
    "            fx = 0\n",
    "        elif x > 0.5:\n",
    "            fx = 1\n",
    "        ####################################################################################################\n",
    "        return fx\n",
    "    \n",
    "    def train(self, x, y, x_test, y_test, learning_rate=0.1, n_iters=10, verbose=True):\n",
    "        n_train, input_size = x.shape\n",
    "        n_test = x_test.shape[0]\n",
    "        # weight initialization\n",
    "        self.W = np.zeros(input_size)\n",
    "        self.b = np.zeros(1)\n",
    "        for i in range(n_iters):\n",
    "            for xi, yi in zip(x, y):\n",
    "                # forward\n",
    "                ####################################################################################################\n",
    "                # 1. enter code here to calculate the output\n",
    "                output = self.f(np.dot(self.W,xi) + self.b) \n",
    "                error = yi - output #d-y\n",
    "                ####################################################################################################\n",
    "                \n",
    "                # backward\n",
    "                ####################################################################################################\n",
    "                # 2. enter code here to adjust the weights\n",
    "                if error > 0 : \n",
    "                    self.W += np.dot(learning_rate,xi)\n",
    "                    self.b += learning_rate\n",
    "                elif error < 0:\n",
    "                    self.W -=  np.dot(learning_rate,xi)\n",
    "                    self.b -= learning_rate\n",
    "                ####################################################################################################\n",
    "\n",
    "            train_acc = (self.predict(x) == y).sum() / n_train\n",
    "            test_acc = (self.predict(x_test) == y_test).sum() / n_test\n",
    "            self.history['train_acc'].append(train_acc)\n",
    "            self.history['test_acc'].append(test_acc)\n",
    "            if verbose:\n",
    "                print('epoch %d, train acc %.4f, test acc %.4f' % (i + 1, train_acc, test_acc))\n",
    "    def predict(self, x):\n",
    "        ####################################################################################################\n",
    "        # 3. enter code here to complete the predict function\n",
    "        # TODO: use the trained weights to predict labels and return the predicted labels\n",
    "        y_pred = np.zeros(len(x))\n",
    "        n = 0\n",
    "        for xi in x:\n",
    "            y_pred[n] = self.f(np.dot(self.W,xi)+self.b)\n",
    "            n += 1\n",
    "        ####################################################################################################\n",
    "        return y_pred"
   ]
  },
  {
   "cell_type": "code",
   "execution_count": 7,
   "id": "3e567f44",
   "metadata": {
    "id": "3e567f44"
   },
   "outputs": [
    {
     "name": "stdout",
     "output_type": "stream",
     "text": [
      "epoch 1, train acc 0.5000, test acc 0.5000\n",
      "epoch 2, train acc 0.5125, test acc 0.5000\n",
      "epoch 3, train acc 0.6625, test acc 0.6500\n",
      "epoch 4, train acc 0.7625, test acc 0.8500\n",
      "epoch 5, train acc 0.8375, test acc 0.8500\n",
      "epoch 6, train acc 0.8625, test acc 0.9000\n",
      "epoch 7, train acc 0.8625, test acc 0.9500\n",
      "epoch 8, train acc 0.8875, test acc 1.0000\n",
      "epoch 9, train acc 0.9000, test acc 0.9500\n",
      "epoch 10, train acc 0.9000, test acc 0.9500\n"
     ]
    }
   ],
   "source": [
    "model1 = SimpleFeedbackLearning()\n",
    "model1.train(x_train, y_train, x_test, y_test, learning_rate=0.001, n_iters=10, verbose=True)"
   ]
  },
  {
   "cell_type": "code",
   "execution_count": 139,
   "id": "b6fde511",
   "metadata": {
    "id": "b6fde511"
   },
   "outputs": [
    {
     "data": {
      "text/plain": [
       "(array([ 0.10361065, -0.06868151,  0.16689628,  0.18142337]), array([0.189]))"
      ]
     },
     "execution_count": 139,
     "metadata": {},
     "output_type": "execute_result"
    }
   ],
   "source": [
    "model1.W, model1.b"
   ]
  },
  {
   "cell_type": "code",
   "execution_count": 140,
   "id": "3830d2ef",
   "metadata": {
    "id": "3830d2ef"
   },
   "outputs": [
    {
     "data": {
      "image/png": "[encoded data removed]",
      "text/plain": [
       "<Figure size 432x288 with 1 Axes>"
      ]
     },
     "metadata": {
      "needs_background": "light"
     },
     "output_type": "display_data"
    }
   ],
   "source": [
    "plt.plot(model1.history['train_acc'], label='train_acc')\n",
    "plt.plot(model1.history['test_acc'], label='test_acc')\n",
    "plt.legend()\n",
    "plt.show()"
   ]
  },
  {
   "cell_type": "code",
   "execution_count": 141,
   "id": "409344f7",
   "metadata": {
    "id": "409344f7",
    "scrolled": true
   },
   "outputs": [
    {
     "data": {
      "text/plain": [
       "array([[ 9.        ,  1.        ,  0.9       ],\n",
       "       [ 0.        , 10.        ,  1.        ],\n",
       "       [ 1.        ,  0.90909091,  0.95      ]])"
      ]
     },
     "execution_count": 141,
     "metadata": {},
     "output_type": "execute_result"
    }
   ],
   "source": [
    "y_pred = model1.predict(x_test)\n",
    "evaluator(y_test, y_pred)"
   ]
  },
  {
   "cell_type": "markdown",
   "id": "e77b19e5",
   "metadata": {
    "id": "e77b19e5"
   },
   "source": [
    "## Part 2 Error Correction Learning"
   ]
  },
  {
   "cell_type": "code",
   "execution_count": 149,
   "id": "ba3d28af",
   "metadata": {
    "id": "ba3d28af"
   },
   "outputs": [],
   "source": [
    "class ErrorCorrectionLearning(object):\n",
    "    def __init__(self):\n",
    "        self.history = {}\n",
    "        self.history['train_error'] = []\n",
    "        self.history['train_acc'] = []\n",
    "        self.history['test_acc'] = []\n",
    "        \n",
    "    def f(self, x):\n",
    "        ####################################################################################################\n",
    "        # 4. enter code here to implement the activation function\n",
    "        fx = 0\n",
    "        if x < 0.5:\n",
    "            fx = 0\n",
    "        elif x >= 0.5:\n",
    "            fx = 1\n",
    "        ####################################################################################################\n",
    "        return fx\n",
    "    \n",
    "    def train(self, x, y, x_test, y_test, learning_rate=0.1, n_iters=10, verbose=True):\n",
    "        n_train, input_size = x.shape\n",
    "        n_test = x_test.shape[0]\n",
    "        self.W = np.zeros(input_size)\n",
    "        self.b = np.zeros(1)\n",
    "\n",
    "        for i in range(n_iters):\n",
    "            error = 0.0\n",
    "            for xi, yi in zip(x, y):\n",
    "                # forward\n",
    "                ####################################################################################################\n",
    "                # 1. enter code here to calculate the output\n",
    "                output = self.f(np.dot(self.W,xi) + self.b) \n",
    "                ####################################################################################################\n",
    "                \n",
    "                # backward\n",
    "                ####################################################################################################\n",
    "                # 2. enter code here to adjust the weights\n",
    "                err = yi - output\n",
    "                dW = learning_rate*(yi- (self.f(np.dot(self.W,xi) +self.b) ) )*xi\n",
    "                db = learning_rate*(yi- (self.f(np.dot(self.W,xi) +self.b) ) )\n",
    "                self.W += dW\n",
    "                self.b += db\n",
    "                ####################################################################################################\n",
    "\n",
    "                error += np.abs(err)\n",
    "                \n",
    "            self.history['train_error'].append(error)\n",
    "            train_acc = (self.predict(x) == y).sum() / n_train\n",
    "            test_acc = (self.predict(x_test) == y_test).sum() / n_test\n",
    "            self.history['train_acc'].append(train_acc)\n",
    "            self.history['test_acc'].append(test_acc)\n",
    "            if verbose:\n",
    "                print('epoch %d, train error %.4f, train acc %.4f, test acc %.4f' % \n",
    "                      (i + 1, error, train_acc, test_acc))\n",
    "\n",
    "    def predict(self, x):\n",
    "        ####################################################################################################\n",
    "        # 3. enter code here to complete the predict function\n",
    "        # TODO: use the trained weights to predict labels and return the predicted labels\n",
    "        y_pred = np.zeros(len(x))\n",
    "        n = 0\n",
    "        for xi in x:\n",
    "            y_pred[n] = self.f(np.dot(self.W,xi)+self.b)\n",
    "            n += 1\n",
    "        ####################################################################################################\n",
    "        return y_pred"
   ]
  },
  {
   "cell_type": "code",
   "execution_count": 150,
   "id": "f59bbea4",
   "metadata": {
    "id": "f59bbea4"
   },
   "outputs": [
    {
     "name": "stdout",
     "output_type": "stream",
     "text": [
      "epoch 1, train error 19.0000, train acc 0.9250, test acc 0.8500\n",
      "epoch 2, train error 6.0000, train acc 0.9625, test acc 0.8000\n",
      "epoch 3, train error 5.0000, train acc 0.9625, test acc 0.8500\n",
      "epoch 4, train error 4.0000, train acc 0.9625, test acc 0.9000\n",
      "epoch 5, train error 5.0000, train acc 0.9750, test acc 0.9000\n",
      "epoch 6, train error 4.0000, train acc 0.9750, test acc 0.9000\n",
      "epoch 7, train error 4.0000, train acc 0.9500, test acc 0.9000\n",
      "epoch 8, train error 2.0000, train acc 0.9500, test acc 0.9000\n",
      "epoch 9, train error 2.0000, train acc 0.9625, test acc 0.9000\n",
      "epoch 10, train error 2.0000, train acc 0.9750, test acc 0.9000\n"
     ]
    }
   ],
   "source": [
    "model2 = ErrorCorrectionLearning()\n",
    "model2.train(x_train, y_train, x_test, y_test, learning_rate=0.01, n_iters=10, verbose=True)"
   ]
  },
  {
   "cell_type": "code",
   "execution_count": 144,
   "id": "1565fafa",
   "metadata": {
    "id": "1565fafa"
   },
   "outputs": [
    {
     "data": {
      "text/plain": [
       "(array([-0.02055815, -0.06948873,  0.197601  ,  0.21607862]), array([0.23]))"
      ]
     },
     "execution_count": 144,
     "metadata": {},
     "output_type": "execute_result"
    }
   ],
   "source": [
    "model2.W, model2.b"
   ]
  },
  {
   "cell_type": "code",
   "execution_count": 145,
   "id": "978f6bb4",
   "metadata": {
    "id": "978f6bb4"
   },
   "outputs": [
    {
     "data": {
      "image/png": "[encoded data removed]",
      "text/plain": [
       "<Figure size 432x288 with 1 Axes>"
      ]
     },
     "metadata": {
      "needs_background": "light"
     },
     "output_type": "display_data"
    }
   ],
   "source": [
    "plt.plot(model2.history['train_acc'], label='train_acc')\n",
    "plt.plot(model2.history['test_acc'], label='test_acc')\n",
    "plt.legend()\n",
    "plt.show()"
   ]
  },
  {
   "cell_type": "code",
   "execution_count": 146,
   "id": "cbdb5794",
   "metadata": {
    "id": "cbdb5794"
   },
   "outputs": [
    {
     "data": {
      "text/plain": [
       "array([[ 8.        ,  2.        ,  0.8       ],\n",
       "       [ 0.        , 10.        ,  1.        ],\n",
       "       [ 1.        ,  0.83333333,  0.9       ]])"
      ]
     },
     "execution_count": 146,
     "metadata": {},
     "output_type": "execute_result"
    }
   ],
   "source": [
    "y_pred = model2.predict(x_test)\n",
    "evaluator(y_test, y_pred)"
   ]
  },
  {
   "cell_type": "code",
   "execution_count": null,
   "id": "f8e72d4a",
   "metadata": {
    "id": "f8e72d4a"
   },
   "outputs": [],
   "source": []
  },
  {
   "cell_type": "code",
   "execution_count": null,
   "id": "b4d122a0",
   "metadata": {},
   "outputs": [],
   "source": []
  },
  {
   "cell_type": "code",
   "execution_count": null,
   "id": "94b3a9da",
   "metadata": {},
   "outputs": [],
   "source": []
  }
 ],
 "metadata": {
  "accelerator": "GPU",
  "colab": {
   "collapsed_sections": [],
   "name": "A1.ipynb",
   "provenance": []
  },
  "kernelspec": {
   "display_name": "Python 3",
   "language": "python",
   "name": "python3"
  },
  "language_info": {
   "codemirror_mode": {
    "name": "ipython",
    "version": 3
   },
   "file_extension": ".py",
   "mimetype": "text/x-python",
   "name": "python",
   "nbconvert_exporter": "python",
   "pygments_lexer": "ipython3",
   "version": "3.8.8"
  }
 },
 "nbformat": 4,
 "nbformat_minor": 5
}
